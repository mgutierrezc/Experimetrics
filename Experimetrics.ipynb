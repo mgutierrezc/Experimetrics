{
 "cells": [
  {
   "cell_type": "markdown",
   "metadata": {},
   "source": [
    "Este Jupyter está basado en los capítulos 2, 3 y 9 del libro Experimetrics, por Peter Moffat"
   ]
  },
  {
   "cell_type": "markdown",
   "metadata": {},
   "source": [
    "<font size=\"5\">**Importando librerías base**</font>"
   ]
  },
  {
   "cell_type": "code",
   "execution_count": 1,
   "metadata": {},
   "outputs": [],
   "source": [
    "import pandas as pd\n",
    "import numpy as np\n",
    "from scipy.stats import ttest_ind, ranksums, ks_2samp, binom_test, normaltest"
   ]
  },
  {
   "cell_type": "markdown",
   "metadata": {},
   "source": [
    "# Analizando resultados binarios"
   ]
  },
  {
   "cell_type": "markdown",
   "metadata": {},
   "source": [
    "Supongamos que a 30 sujetos los hacemos escoger entre dos loterías: una riesgosa y otra segura. 21 escogen la opción riesgosa: y, 9, la segura."
   ]
  },
  {
   "cell_type": "code",
   "execution_count": 2,
   "metadata": {},
   "outputs": [],
   "source": [
    "trials = [21, 9] # número de éxitos (escoger opción riesgosa) y fallos"
   ]
  },
  {
   "cell_type": "markdown",
   "metadata": {},
   "source": [
    "Con estos datos, podemos probar si la muestra es **neutral** al riesgo (p = 0.5), **adversa** al riesgo (p < 0.5) o **propensa** al riesgo (p > 0.5)"
   ]
  },
  {
   "cell_type": "code",
   "execution_count": 3,
   "metadata": {},
   "outputs": [
    {
     "data": {
      "text/plain": [
       "0.04277394525706768"
      ]
     },
     "execution_count": 3,
     "metadata": {},
     "output_type": "execute_result"
    }
   ],
   "source": [
    "binom_test(trials, p=0.5) # prueba de dos colas"
   ]
  },
  {
   "cell_type": "code",
   "execution_count": 4,
   "metadata": {},
   "outputs": [
    {
     "data": {
      "text/plain": [
       "0.02138697262853384"
      ]
     },
     "execution_count": 4,
     "metadata": {},
     "output_type": "execute_result"
    }
   ],
   "source": [
    "binom_test(trials, p=0.5, alternative='greater') # se rechaza la nula en favor de una prob > a 0.5"
   ]
  },
  {
   "cell_type": "code",
   "execution_count": 5,
   "metadata": {},
   "outputs": [
    {
     "data": {
      "text/plain": [
       "0.991937599144876"
      ]
     },
     "execution_count": 5,
     "metadata": {},
     "output_type": "execute_result"
    }
   ],
   "source": [
    "binom_test(trials, p=0.5, alternative='less') # se rechaza la nula en favor de una prob < a 0.5"
   ]
  },
  {
   "cell_type": "markdown",
   "metadata": {},
   "source": [
    "# Probando normalidad"
   ]
  },
  {
   "cell_type": "markdown",
   "metadata": {},
   "source": [
    "Creemos una variable con distribución normal y otra chi2"
   ]
  },
  {
   "cell_type": "code",
   "execution_count": 6,
   "metadata": {},
   "outputs": [],
   "source": [
    "n_obs = 50"
   ]
  },
  {
   "cell_type": "code",
   "execution_count": 7,
   "metadata": {},
   "outputs": [],
   "source": [
    "var_normal = np.random.normal(size=n_obs) # variable normal\n",
    "var_chi2 = np.random.chisquare(4,size=n_obs) # variable chi2"
   ]
  },
  {
   "cell_type": "markdown",
   "metadata": {},
   "source": [
    "Usaremos la prubea de **sesgo y curtosis** para determinar si la distribución de las variables es normal. Su hipótesis nula es que la variable tiene una distribución normal."
   ]
  },
  {
   "cell_type": "code",
   "execution_count": 8,
   "metadata": {},
   "outputs": [
    {
     "data": {
      "text/plain": [
       "NormaltestResult(statistic=0.9003290955484142, pvalue=0.637523239960379)"
      ]
     },
     "execution_count": 8,
     "metadata": {},
     "output_type": "execute_result"
    }
   ],
   "source": [
    "normaltest(var_normal)"
   ]
  },
  {
   "cell_type": "code",
   "execution_count": 9,
   "metadata": {},
   "outputs": [
    {
     "data": {
      "text/plain": [
       "NormaltestResult(statistic=3.760103377379749, pvalue=0.15258221877806502)"
      ]
     },
     "execution_count": 9,
     "metadata": {},
     "output_type": "execute_result"
    }
   ],
   "source": [
    "normaltest(var_chi2)"
   ]
  },
  {
   "cell_type": "markdown",
   "metadata": {},
   "source": [
    "Probemos con una variable chi2 que tenga más grados de libertad"
   ]
  },
  {
   "cell_type": "code",
   "execution_count": 10,
   "metadata": {},
   "outputs": [
    {
     "data": {
      "text/plain": [
       "NormaltestResult(statistic=22.57286568738089, pvalue=1.2541933554578938e-05)"
      ]
     },
     "execution_count": 10,
     "metadata": {},
     "output_type": "execute_result"
    }
   ],
   "source": [
    "var_chi2 = np.random.chisquare(10,size=n_obs) # variable chi2\n",
    "normaltest(var_chi2)"
   ]
  },
  {
   "cell_type": "markdown",
   "metadata": {},
   "source": [
    "# Treatment testing"
   ]
  },
  {
   "cell_type": "markdown",
   "metadata": {},
   "source": [
    "Definiendo las variables y parámetros para las pruebas"
   ]
  },
  {
   "cell_type": "code",
   "execution_count": 11,
   "metadata": {},
   "outputs": [],
   "source": [
    "treatment_effect = 4\n",
    "treatment = np.array([int(treated >= round(n_obs/2)) for treated in range(0, n_obs)]) # creando un indicador de tratados\n",
    "outcome = 10 + treatment_effect*treatment + var_normal # definiendo el proceso generador de datos\n",
    "test_df = pd.DataFrame({\"var_normal\": var_normal, \"treatment\": treatment, \"outcome\": outcome}) # base de datos madre"
   ]
  },
  {
   "cell_type": "markdown",
   "metadata": {},
   "source": [
    "Separando los datos de nuestros grupos de control y tratamiento"
   ]
  },
  {
   "cell_type": "code",
   "execution_count": 12,
   "metadata": {},
   "outputs": [],
   "source": [
    "control_group = test_df[test_df[\"treatment\"]==0]\n",
    "treatment_group = test_df[test_df[\"treatment\"]==1]"
   ]
  },
  {
   "cell_type": "markdown",
   "metadata": {},
   "source": [
    "## Pruebas paramétricas: Prueba t"
   ]
  },
  {
   "cell_type": "markdown",
   "metadata": {},
   "source": [
    "La prueba t para muestras independientes es una prueba paramétrica, pues asume que los datos vienen de una población que sigue una distribución de probabilidad específica. En este caso, que nuestro resultado sigue una distribución normal."
   ]
  },
  {
   "cell_type": "code",
   "execution_count": 13,
   "metadata": {},
   "outputs": [
    {
     "data": {
      "text/plain": [
       "1.0283308263055054e-16"
      ]
     },
     "execution_count": 13,
     "metadata": {},
     "output_type": "execute_result"
    }
   ],
   "source": [
    "ttest_pval = ttest_ind(control_group[\"outcome\"], treatment_group[\"outcome\"]).pvalue\n",
    "ttest_pval"
   ]
  },
  {
   "cell_type": "markdown",
   "metadata": {},
   "source": [
    "## Pruebas no paramétricas: Prueba de Mann-Whitney"
   ]
  },
  {
   "cell_type": "markdown",
   "metadata": {},
   "source": [
    "Las pruebas no paramétricas, como la de Mann-Whitney no requieren supuestos sobre la distribución de los datos"
   ]
  },
  {
   "cell_type": "code",
   "execution_count": 14,
   "metadata": {},
   "outputs": [
    {
     "data": {
      "text/plain": [
       "2.42580372250851e-09"
      ]
     },
     "execution_count": 14,
     "metadata": {},
     "output_type": "execute_result"
    }
   ],
   "source": [
    "ranksum_pval = ranksums(control_group[\"outcome\"], treatment_group[\"outcome\"]).pvalue\n",
    "ranksum_pval"
   ]
  },
  {
   "cell_type": "markdown",
   "metadata": {},
   "source": [
    "# Comparando distribuciones: Kolmogorov-Smirnoff"
   ]
  },
  {
   "cell_type": "markdown",
   "metadata": {},
   "source": [
    "En caso deseemos comparar las distribuciones de la variable de resultados en el grupo de tratamiento y el de resultados, podemos usar el test de Kolmogorov-Smirnoff"
   ]
  },
  {
   "cell_type": "code",
   "execution_count": 15,
   "metadata": {},
   "outputs": [
    {
     "data": {
      "text/plain": [
       "1.9381285075999106e-11"
      ]
     },
     "execution_count": 15,
     "metadata": {},
     "output_type": "execute_result"
    }
   ],
   "source": [
    "ks_pval = ks_2samp(control_group[\"outcome\"], treatment_group[\"outcome\"]).pvalue\n",
    "ks_pval"
   ]
  },
  {
   "cell_type": "markdown",
   "metadata": {},
   "source": [
    "# Análisis de poder usando simulaciones de monte carlo"
   ]
  },
  {
   "cell_type": "markdown",
   "metadata": {},
   "source": [
    "## Generando una base para cada simulación"
   ]
  },
  {
   "cell_type": "code",
   "execution_count": 16,
   "metadata": {},
   "outputs": [
    {
     "data": {
      "text/plain": [
       "(7.501045334606157e-05, 0.001498873337151676, 0.00021650176448938054)"
      ]
     },
     "execution_count": 16,
     "metadata": {},
     "output_type": "execute_result"
    }
   ],
   "source": [
    "def base_generator(obs, treatment_effect=4):\n",
    "    \"\"\"\n",
    "    Crea una base de datos con los pvalues para una iteración\n",
    "    de una simulación de monte carlo\n",
    "    \n",
    "    Input: número de observaciones (obs: int), distribucion (funcion de numpy)\n",
    "    grados de libertad (numero)\n",
    "    Output: None\n",
    "    \"\"\"\n",
    "       \n",
    "    #var = np.random.normal(size=obs) # variable normal\n",
    "    var = np.random.chisquare(4,size=obs) # variable chi2\n",
    "    \n",
    "    treatment = np.array([int(treated >= round(obs/2)) for treated in range(0, obs)]) # creando un indicador de tratados\n",
    "    \n",
    "    outcome = 10 + treatment_effect*treatment + var # definiendo el proceso generador de datos\n",
    "  \n",
    "    df = pd.DataFrame({\"var\": var, \"treatment\": treatment, \"outcome\": outcome}) # base de datos madre\n",
    "    \n",
    "    control_group_data = df[df[\"treatment\"]==0]\n",
    "    treatment_group_data = df[df[\"treatment\"]==1]\n",
    "\n",
    "    # obteniendo los pvalues de cada test para nuestra base\n",
    "    ttest_pval = ttest_ind(control_group_data[\"outcome\"], treatment_group_data[\"outcome\"]).pvalue\n",
    "    ranksum_pval = ranksums(control_group_data[\"outcome\"], treatment_group_data[\"outcome\"]).pvalue\n",
    "    ks_pval = ks_2samp(control_group_data[\"outcome\"], treatment_group_data[\"outcome\"]).pvalue\n",
    "\n",
    "    return (ttest_pval, ranksum_pval, ks_pval)\n",
    "base_generator(20)"
   ]
  },
  {
   "cell_type": "markdown",
   "metadata": {},
   "source": [
    "## Realizando las simulaciones "
   ]
  },
  {
   "cell_type": "code",
   "execution_count": 17,
   "metadata": {},
   "outputs": [],
   "source": [
    "def simulate_mc(base_grator, obs, reps, sig=0.01, treatment_effect=4):\n",
    "    \"\"\"\n",
    "    Crea una base de datos que indica la significancia al sig% de \n",
    "    pruebas estadísticas asociadas a una serie de simulaciones\n",
    "    de monte carlo\n",
    "    \n",
    "    Input: generador de base de datos (función), número de observaciones (int),\n",
    "    número de repeticiones (int), significancia (float)\n",
    "    Output: base con las veces que se rechazó la hipótesis nula de cada test (dataframe)\n",
    "    \"\"\"\n",
    "    \n",
    "    # listas para guardar pvalues de tests\n",
    "    ttest_pval_list = []\n",
    "    ranksum_pval_list = []\n",
    "    ks_pval_list = []\n",
    "    \n",
    "    for repetition in range(0, reps):\n",
    "        (ttest_pval, ranksum_pval, ks_pval) = base_grator(obs, treatment_effect)\n",
    "        \n",
    "        # almacenando los valores\n",
    "        ttest_pval_list.append(ttest_pval)\n",
    "        ranksum_pval_list.append(ranksum_pval)\n",
    "        ks_pval_list.append(ks_pval)\n",
    "    \n",
    "    # listas para ver si los tests son significativos (1 = signif, 0 = no signif)\n",
    "    ttest_sig_list = [int(pval <= sig) for pval in ttest_pval_list]\n",
    "    ranksum_sig_list = [int(pval <= sig) for pval in ranksum_pval_list]\n",
    "    ks_sig_list = [int(pval <= sig) for pval in ks_pval_list]\n",
    "    \n",
    "    return pd.DataFrame({\"ttest\": ttest_sig_list, \"ranksum\": ranksum_sig_list, \"ks\": ks_sig_list})"
   ]
  },
  {
   "cell_type": "markdown",
   "metadata": {},
   "source": [
    "## Analizando el poder para un set de repeticiones y observaciones"
   ]
  },
  {
   "cell_type": "code",
   "execution_count": 18,
   "metadata": {},
   "outputs": [
    {
     "data": {
      "text/html": [
       "<div>\n",
       "<style scoped>\n",
       "    .dataframe tbody tr th:only-of-type {\n",
       "        vertical-align: middle;\n",
       "    }\n",
       "\n",
       "    .dataframe tbody tr th {\n",
       "        vertical-align: top;\n",
       "    }\n",
       "\n",
       "    .dataframe thead th {\n",
       "        text-align: right;\n",
       "    }\n",
       "</style>\n",
       "<table border=\"1\" class=\"dataframe\">\n",
       "  <thead>\n",
       "    <tr style=\"text-align: right;\">\n",
       "      <th></th>\n",
       "      <th>T = 100</th>\n",
       "      <th>T = 200</th>\n",
       "      <th>T = 300</th>\n",
       "    </tr>\n",
       "  </thead>\n",
       "  <tbody>\n",
       "    <tr>\n",
       "      <th>N = 20</th>\n",
       "      <td>0.63</td>\n",
       "      <td>0.63</td>\n",
       "      <td>0.623333</td>\n",
       "    </tr>\n",
       "    <tr>\n",
       "      <th>N = 200</th>\n",
       "      <td>1</td>\n",
       "      <td>1</td>\n",
       "      <td>1</td>\n",
       "    </tr>\n",
       "    <tr>\n",
       "      <th>N = 2000</th>\n",
       "      <td>1</td>\n",
       "      <td>1</td>\n",
       "      <td>1</td>\n",
       "    </tr>\n",
       "  </tbody>\n",
       "</table>\n",
       "</div>"
      ],
      "text/plain": [
       "         T = 100 T = 200   T = 300\n",
       "N = 20      0.63    0.63  0.623333\n",
       "N = 200        1       1         1\n",
       "N = 2000       1       1         1"
      ]
     },
     "execution_count": 18,
     "metadata": {},
     "output_type": "execute_result"
    }
   ],
   "source": [
    "def simulations_vs_sample_size(test):\n",
    "    \"\"\"\n",
    "    Crea una tabla con resultados de un cálculo de poder\n",
    "    donde las filas son el número de observaciones en cada\n",
    "    muestra simulada y el número de iteraciones\n",
    "    \n",
    "    Input: nombre del test (string: ttest, ranksum, ks)\n",
    "    Output: tabla con analisis de poder para cada caso (dataframe)\n",
    "    \"\"\"\n",
    "    \n",
    "    repetitions = [100, 200, 300]\n",
    "    observations = [20, 200, 2000]\n",
    "\n",
    "    col_names = [f\"T = {reps}\" for reps in repetitions]\n",
    "    row_names = [f\"N = {obs}\" for obs in observations]\n",
    "\n",
    "    df_results = pd.DataFrame(columns=col_names, index=row_names)\n",
    "    \n",
    "    row_counter = 1\n",
    "    for obs in observations:\n",
    "        \n",
    "        col_counter = 1\n",
    "        for reps in repetitions:\n",
    "            power = simulate_mc(base_generator, obs, reps)[test].mean() # cálculando el poder para el caso actual\n",
    "            df_results.iloc[row_counter-1, col_counter-1] = power\n",
    "            col_counter += 1\n",
    "\n",
    "        row_counter += 1\n",
    "    \n",
    "    return df_results\n",
    "simulations_vs_sample_size(\"ttest\")"
   ]
  }
 ],
 "metadata": {
  "kernelspec": {
   "display_name": "Python 3",
   "language": "python",
   "name": "python3"
  },
  "language_info": {
   "codemirror_mode": {
    "name": "ipython",
    "version": 3
   },
   "file_extension": ".py",
   "mimetype": "text/x-python",
   "name": "python",
   "nbconvert_exporter": "python",
   "pygments_lexer": "ipython3",
   "version": "3.6.5"
  },
  "toc": {
   "base_numbering": 1,
   "nav_menu": {},
   "number_sections": true,
   "sideBar": true,
   "skip_h1_title": false,
   "title_cell": "Table of Contents",
   "title_sidebar": "Contents",
   "toc_cell": false,
   "toc_position": {},
   "toc_section_display": true,
   "toc_window_display": false
  }
 },
 "nbformat": 4,
 "nbformat_minor": 2
}
